{
 "cells": [
  {
   "cell_type": "markdown",
   "metadata": {},
   "source": [
    "## Setup"
   ]
  },
  {
   "cell_type": "code",
   "execution_count": 1,
   "metadata": {
    "collapsed": true
   },
   "outputs": [],
   "source": [
    "import urllib.request\n",
    "import zipfile\n",
    "import pandas as pd\n",
    "from urllib.parse import urlencode\n",
    "import json\n",
    "import gzip"
   ]
  },
  {
   "cell_type": "markdown",
   "metadata": {},
   "source": [
    "### Define Data"
   ]
  },
  {
   "cell_type": "code",
   "execution_count": 2,
   "metadata": {
    "collapsed": true
   },
   "outputs": [],
   "source": [
    "DATA_DIR = './data/'\n",
    "ZIPS_URL = 'http://www2.census.gov/geo/docs/maps-data/data/gazetteer/2017_Gazetteer/2017_Gaz_zcta_national.zip'\n",
    "ZIPS_FP = DATA_DIR + 'zips-2017.zip'\n",
    "ZHVI_URL = 'http://files.zillowstatic.com/research/public/Zip/Zip_Zhvi_SingleFamilyResidence.csv'\n",
    "ZHVI_FP = DATA_DIR + 'sfr.csv'"
   ]
  },
  {
   "cell_type": "markdown",
   "metadata": {},
   "source": [
    "### (Optional) Refresh Data"
   ]
  },
  {
   "cell_type": "code",
   "execution_count": 3,
   "metadata": {
    "collapsed": true
   },
   "outputs": [],
   "source": [
    "urllib.request.urlretrieve(ZIPS_URL, ZIPS_FP);"
   ]
  },
  {
   "cell_type": "code",
   "execution_count": 4,
   "metadata": {
    "collapsed": true
   },
   "outputs": [],
   "source": [
    "urllib.request.urlretrieve(ZHVI_URL, ZHVI_FP);"
   ]
  },
  {
   "cell_type": "markdown",
   "metadata": {},
   "source": [
    "## Home Prices"
   ]
  },
  {
   "cell_type": "code",
   "execution_count": 5,
   "metadata": {
    "collapsed": true
   },
   "outputs": [],
   "source": [
    "df = pd.read_csv(ZHVI_FP)\n",
    "counties = ['San Francisco', 'San Mateo', 'San Jose']\n",
    "df = df[df['CountyName'].isin(counties)]\n",
    "zips = df['RegionName']"
   ]
  },
  {
   "cell_type": "markdown",
   "metadata": {},
   "source": [
    "## Schools"
   ]
  },
  {
   "cell_type": "code",
   "execution_count": 6,
   "metadata": {},
   "outputs": [],
   "source": [
    "df2 = pd.read_csv(ZIPS_FP, sep='\\t')\n",
    "df2 = df2[df2['GEOID'].isin(zips.values)]"
   ]
  },
  {
   "cell_type": "code",
   "execution_count": 7,
   "metadata": {
    "collapsed": true
   },
   "outputs": [],
   "source": [
    "base = 'https://www.greatschools.org/search/search.page?'\n",
    "params = {\n",
    "    'lat': '37.554298',\n",
    "    'lon': '-122.496632',\n",
    "    'zip': '94037',\n",
    "    'state': 'CA'\n",
    "}\n",
    "url = base + urlencode(params)\n",
    "headers = {\n",
    "    \"user-agent\": \"Mozilla/5.0 (Macintosh; Intel Mac OS X 10.13; rv:58.0) Gecko/20100101 Firefox/58.0\",\n",
    "    \"accept\": \"text/html,application/xhtml+xml,application/xml;q=0.9,*/*;q=0.8\",\n",
    "    \"accept-encoding\": \"gzip,deflate,br\",\n",
    "    \"accept-language\": \"en-US,en;q=0.5\",\n",
    "}"
   ]
  },
  {
   "cell_type": "code",
   "execution_count": 8,
   "metadata": {
    "collapsed": true
   },
   "outputs": [],
   "source": [
    "req = urllib.request.Request(url, None, headers)\n",
    "with urllib.request.urlopen(req) as res:\n",
    "    html = gzip.decompress(res.read()).decode('utf-8')"
   ]
  },
  {
   "cell_type": "code",
   "execution_count": 9,
   "metadata": {
    "collapsed": true
   },
   "outputs": [],
   "source": [
    "raw = html.find('gon.map_points')\n",
    "start = html.find('[',raw)\n",
    "end = html.find(']',raw)\n",
    "data = html[start:end+1]\n",
    "schools = json.loads(data)\n",
    "rated = [i for i in schools if i['gsRating'] > 0]"
   ]
  },
  {
   "cell_type": "code",
   "execution_count": 10,
   "metadata": {
    "scrolled": true
   },
   "outputs": [
    {
     "data": {
      "text/plain": [
       "[{'city': 'Pacifica',\n",
       "  'communityRatingStars': 5,\n",
       "  'fitScore': 0,\n",
       "  'gradeRange': 'K-8',\n",
       "  'gsRating': 9,\n",
       "  'id': 6884,\n",
       "  'lat': 37.59849548339844,\n",
       "  'lng': -122.49832153320312,\n",
       "  'maxFitScore': 0,\n",
       "  'name': 'Cabrillo Elementary School',\n",
       "  'numReviews': 129,\n",
       "  'okFit': False,\n",
       "  'on_page': True,\n",
       "  'preschool': False,\n",
       "  'profileUrl': '/california/pacifica/6884-Cabrillo-Elementary-School/',\n",
       "  'reviewUrl': '/california/pacifica/6884-Cabrillo-Elementary-School/#Reviews',\n",
       "  'schoolType': 'Public district',\n",
       "  'state': 'ca',\n",
       "  'street': '601 Crespi Drive',\n",
       "  'strongFit': False,\n",
       "  'zillowUrl': 'https://www.zillow.com/CA-94044?cbpartner=Great+Schools&utm_source=GreatSchools&utm_medium=referral&utm_campaign=schoolsearch',\n",
       "  'zipcode': '94044'},\n",
       " {'city': 'Pacifica',\n",
       "  'communityRatingStars': 5,\n",
       "  'fitScore': 0,\n",
       "  'gradeRange': 'K-8',\n",
       "  'gsRating': 9,\n",
       "  'id': 6892,\n",
       "  'lat': 37.61370086669922,\n",
       "  'lng': -122.4847412109375,\n",
       "  'maxFitScore': 0,\n",
       "  'name': 'Vallemar Elementary School',\n",
       "  'numReviews': 140,\n",
       "  'okFit': False,\n",
       "  'on_page': True,\n",
       "  'preschool': False,\n",
       "  'profileUrl': '/california/pacifica/6892-Vallemar-Elementary-School/',\n",
       "  'reviewUrl': '/california/pacifica/6892-Vallemar-Elementary-School/#Reviews',\n",
       "  'schoolType': 'Public district',\n",
       "  'state': 'ca',\n",
       "  'street': '377 Reina Del Mar Avenue',\n",
       "  'strongFit': False,\n",
       "  'zillowUrl': 'https://www.zillow.com/CA-94044?cbpartner=Great+Schools&utm_source=GreatSchools&utm_medium=referral&utm_campaign=schoolsearch',\n",
       "  'zipcode': '94044'},\n",
       " {'city': 'Pacifica',\n",
       "  'communityRatingStars': 3,\n",
       "  'fitScore': 0,\n",
       "  'gradeRange': '9-12',\n",
       "  'gsRating': 7,\n",
       "  'id': 6882,\n",
       "  'lat': 37.592369079589844,\n",
       "  'lng': -122.47595977783203,\n",
       "  'maxFitScore': 0,\n",
       "  'name': 'Terra Nova High School',\n",
       "  'numReviews': 41,\n",
       "  'okFit': False,\n",
       "  'on_page': True,\n",
       "  'preschool': False,\n",
       "  'profileUrl': '/california/pacifica/6882-Terra-Nova-High-School/',\n",
       "  'reviewUrl': '/california/pacifica/6882-Terra-Nova-High-School/#Reviews',\n",
       "  'schoolType': 'Public district',\n",
       "  'state': 'ca',\n",
       "  'street': '1450 Terra Nova Boulevard',\n",
       "  'strongFit': False,\n",
       "  'zillowUrl': 'https://www.zillow.com/CA-94044?cbpartner=Great+Schools&utm_source=GreatSchools&utm_medium=referral&utm_campaign=schoolsearch',\n",
       "  'zipcode': '94044'},\n",
       " {'city': 'Pacifica',\n",
       "  'communityRatingStars': 5,\n",
       "  'fitScore': 0,\n",
       "  'gradeRange': 'K-5',\n",
       "  'gsRating': 5,\n",
       "  'id': 13919,\n",
       "  'lat': 37.58766555786133,\n",
       "  'lng': -122.47904205322266,\n",
       "  'maxFitScore': 0,\n",
       "  'name': 'Ortega Elementary School',\n",
       "  'numReviews': 52,\n",
       "  'okFit': False,\n",
       "  'on_page': True,\n",
       "  'preschool': False,\n",
       "  'profileUrl': '/california/pacifica/13919-Ortega-Elementary-School/',\n",
       "  'reviewUrl': '/california/pacifica/13919-Ortega-Elementary-School/#Reviews',\n",
       "  'schoolType': 'Public district',\n",
       "  'state': 'ca',\n",
       "  'street': '1283 Terra Nova Boulevard',\n",
       "  'strongFit': False,\n",
       "  'zillowUrl': 'https://www.zillow.com/CA-94044?cbpartner=Great+Schools&utm_source=GreatSchools&utm_medium=referral&utm_campaign=schoolsearch',\n",
       "  'zipcode': '94044'},\n",
       " {'city': 'Half Moon Bay',\n",
       "  'communityRatingStars': 5,\n",
       "  'fitScore': 0,\n",
       "  'gradeRange': 'K-5',\n",
       "  'gsRating': 4,\n",
       "  'id': 6853,\n",
       "  'lat': 37.499977111816406,\n",
       "  'lng': -122.46453094482422,\n",
       "  'maxFitScore': 0,\n",
       "  'name': 'El Granada Elementary School',\n",
       "  'numReviews': 9,\n",
       "  'okFit': False,\n",
       "  'on_page': True,\n",
       "  'preschool': False,\n",
       "  'profileUrl': '/california/half-moon-bay/6853-El-Granada-Elementary-School/',\n",
       "  'reviewUrl': '/california/half-moon-bay/6853-El-Granada-Elementary-School/#Reviews',\n",
       "  'schoolType': 'Public district',\n",
       "  'state': 'ca',\n",
       "  'street': '400 Santiago Street',\n",
       "  'strongFit': False,\n",
       "  'zillowUrl': 'https://www.zillow.com/CA-94019?cbpartner=Great+Schools&utm_source=GreatSchools&utm_medium=referral&utm_campaign=schoolsearch',\n",
       "  'zipcode': '94019'},\n",
       " {'city': 'Montara',\n",
       "  'communityRatingStars': 4,\n",
       "  'fitScore': 0,\n",
       "  'gradeRange': 'K-5',\n",
       "  'gsRating': 4,\n",
       "  'id': 6854,\n",
       "  'lat': 37.54350662231445,\n",
       "  'lng': -122.50814056396484,\n",
       "  'maxFitScore': 0,\n",
       "  'name': 'Farallone View Elementary School',\n",
       "  'numReviews': 24,\n",
       "  'okFit': False,\n",
       "  'on_page': True,\n",
       "  'preschool': False,\n",
       "  'profileUrl': '/california/montara/6854-Farallone-View-Elementary-School/',\n",
       "  'reviewUrl': '/california/montara/6854-Farallone-View-Elementary-School/#Reviews',\n",
       "  'schoolType': 'Public district',\n",
       "  'state': 'ca',\n",
       "  'street': '250 Laconte And Kanoff',\n",
       "  'strongFit': False,\n",
       "  'zillowUrl': 'https://www.zillow.com/CA-94037?cbpartner=Great+Schools&utm_source=GreatSchools&utm_medium=referral&utm_campaign=schoolsearch',\n",
       "  'zipcode': '94037'}]"
      ]
     },
     "execution_count": 10,
     "metadata": {},
     "output_type": "execute_result"
    }
   ],
   "source": [
    "rated"
   ]
  },
  {
   "cell_type": "code",
   "execution_count": 11,
   "metadata": {},
   "outputs": [
    {
     "name": "stdout",
     "output_type": "stream",
     "text": [
      "6.33\n"
     ]
    }
   ],
   "source": [
    "# Calculating the average rating for each zipcode\n",
    "total_rating = 0\n",
    "num_schools = len(rated)\n",
    "for school in rated:\n",
    "    rating = school['gsRating']\n",
    "    total_rating = total_rating + rating\n",
    "avg_rating = round(total_rating/num_schools, 2)\n",
    "print(avg_rating)"
   ]
  },
  {
   "cell_type": "code",
   "execution_count": 12,
   "metadata": {},
   "outputs": [],
   "source": [
    "# Grabbing the zipcode\n",
    "zipcode = rated[0]['zipcode']"
   ]
  },
  {
   "cell_type": "code",
   "execution_count": 13,
   "metadata": {},
   "outputs": [
    {
     "name": "stdout",
     "output_type": "stream",
     "text": [
      "['K-8', '9-12', 'K-5']\n"
     ]
    }
   ],
   "source": [
    "# Creating a list of all types of grade ranges\n",
    "grades = []\n",
    "grade_range= []\n",
    "for school in rated:\n",
    "    grade = school['gradeRange']\n",
    "    grades.append(grade)\n",
    "[grade_range.append(item) for item in grades if item not in grade_range]\n",
    "print(grade_range)"
   ]
  },
  {
   "cell_type": "code",
   "execution_count": 14,
   "metadata": {},
   "outputs": [
    {
     "data": {
      "text/html": [
       "<div>\n",
       "<style>\n",
       "    .dataframe thead tr:only-child th {\n",
       "        text-align: right;\n",
       "    }\n",
       "\n",
       "    .dataframe thead th {\n",
       "        text-align: left;\n",
       "    }\n",
       "\n",
       "    .dataframe tbody tr th {\n",
       "        vertical-align: top;\n",
       "    }\n",
       "</style>\n",
       "<table border=\"1\" class=\"dataframe\">\n",
       "  <thead>\n",
       "    <tr style=\"text-align: right;\">\n",
       "      <th></th>\n",
       "      <th>avg_rating</th>\n",
       "      <th>grade_ranges</th>\n",
       "      <th>number_of_schools</th>\n",
       "    </tr>\n",
       "    <tr>\n",
       "      <th>zipcode</th>\n",
       "      <th></th>\n",
       "      <th></th>\n",
       "      <th></th>\n",
       "    </tr>\n",
       "  </thead>\n",
       "  <tbody>\n",
       "    <tr>\n",
       "      <th>94044</th>\n",
       "      <td>6.33</td>\n",
       "      <td>[K-8, 9-12, K-5]</td>\n",
       "      <td>6</td>\n",
       "    </tr>\n",
       "  </tbody>\n",
       "</table>\n",
       "</div>"
      ],
      "text/plain": [
       "         avg_rating      grade_ranges  number_of_schools\n",
       "zipcode                                                 \n",
       "94044          6.33  [K-8, 9-12, K-5]                  6"
      ]
     },
     "execution_count": 14,
     "metadata": {},
     "output_type": "execute_result"
    }
   ],
   "source": [
    "# Creating a final table\n",
    "d = {'zipcode': zipcode, 'avg_rating': avg_rating, \n",
    "     'number_of_schools': num_schools, 'grade_ranges': [grade_range]}\n",
    "schools_df = pd.DataFrame(data =d)\n",
    "schools_df = schools_df.set_index('zipcode')\n",
    "schools_df.head()"
   ]
  },
  {
   "cell_type": "code",
   "execution_count": 15,
   "metadata": {
    "scrolled": true
   },
   "outputs": [
    {
     "data": {
      "text/html": [
       "<div>\n",
       "<style>\n",
       "    .dataframe thead tr:only-child th {\n",
       "        text-align: right;\n",
       "    }\n",
       "\n",
       "    .dataframe thead th {\n",
       "        text-align: left;\n",
       "    }\n",
       "\n",
       "    .dataframe tbody tr th {\n",
       "        vertical-align: top;\n",
       "    }\n",
       "</style>\n",
       "<table border=\"1\" class=\"dataframe\">\n",
       "  <thead>\n",
       "    <tr style=\"text-align: right;\">\n",
       "      <th></th>\n",
       "      <th>zipcode</th>\n",
       "      <th>lat</th>\n",
       "      <th>long</th>\n",
       "    </tr>\n",
       "  </thead>\n",
       "  <tbody>\n",
       "    <tr>\n",
       "      <th>30954</th>\n",
       "      <td>94002</td>\n",
       "      <td>37.514354</td>\n",
       "      <td>-122.298901</td>\n",
       "    </tr>\n",
       "    <tr>\n",
       "      <th>30955</th>\n",
       "      <td>94005</td>\n",
       "      <td>37.688826</td>\n",
       "      <td>-122.408935</td>\n",
       "    </tr>\n",
       "    <tr>\n",
       "      <th>30956</th>\n",
       "      <td>94010</td>\n",
       "      <td>37.570280</td>\n",
       "      <td>-122.365778</td>\n",
       "    </tr>\n",
       "    <tr>\n",
       "      <th>30957</th>\n",
       "      <td>94014</td>\n",
       "      <td>37.690884</td>\n",
       "      <td>-122.447441</td>\n",
       "    </tr>\n",
       "    <tr>\n",
       "      <th>30958</th>\n",
       "      <td>94015</td>\n",
       "      <td>37.681312</td>\n",
       "      <td>-122.480634</td>\n",
       "    </tr>\n",
       "  </tbody>\n",
       "</table>\n",
       "</div>"
      ],
      "text/plain": [
       "       zipcode        lat        long\n",
       "30954    94002  37.514354 -122.298901\n",
       "30955    94005  37.688826 -122.408935\n",
       "30956    94010  37.570280 -122.365778\n",
       "30957    94014  37.690884 -122.447441\n",
       "30958    94015  37.681312 -122.480634"
      ]
     },
     "execution_count": 15,
     "metadata": {},
     "output_type": "execute_result"
    }
   ],
   "source": [
    "# Working on iterating through the zipcodes\n",
    "df2 = df2.drop([\"ALAND\", \"AWATER\", \"ALAND_SQMI\", \"AWATER_SQMI\"], axis =1)\n",
    "df2.columns=[\"zipcode\", \"lat\", \"long\"]\n",
    "df2.head()"
   ]
  },
  {
   "cell_type": "code",
   "execution_count": 16,
   "metadata": {},
   "outputs": [
    {
     "ename": "SyntaxError",
     "evalue": "invalid syntax (<ipython-input-16-951cba3ade85>, line 4)",
     "output_type": "error",
     "traceback": [
      "\u001b[0;36m  File \u001b[0;32m\"<ipython-input-16-951cba3ade85>\"\u001b[0;36m, line \u001b[0;32m4\u001b[0m\n\u001b[0;31m    'lon': long\u001b[0m\n\u001b[0m        ^\u001b[0m\n\u001b[0;31mSyntaxError\u001b[0m\u001b[0;31m:\u001b[0m invalid syntax\n"
     ]
    }
   ],
   "source": [
    "for index, row in df2.iterrows():\n",
    "    params = {\n",
    "    'lat': lat\n",
    "    'lon': long\n",
    "    'zip': zipcode\n",
    "    'state': \"'CA\"\n",
    "    }\n",
    "    print(params)"
   ]
  },
  {
   "cell_type": "code",
   "execution_count": 17,
   "metadata": {},
   "outputs": [
    {
     "name": "stdout",
     "output_type": "stream",
     "text": [
      "zipcode    94002.000000\n",
      "lat           37.514354\n",
      "long        -122.298901\n",
      "Name: 30954, dtype: float64\n",
      "zipcode    94005.000000\n",
      "lat           37.688826\n",
      "long        -122.408935\n",
      "Name: 30955, dtype: float64\n",
      "zipcode    94010.000000\n",
      "lat           37.570280\n",
      "long        -122.365778\n",
      "Name: 30956, dtype: float64\n",
      "zipcode    94014.000000\n",
      "lat           37.690884\n",
      "long        -122.447441\n",
      "Name: 30957, dtype: float64\n",
      "zipcode    94015.000000\n",
      "lat           37.681312\n",
      "long        -122.480634\n",
      "Name: 30958, dtype: float64\n",
      "zipcode    94019.000000\n",
      "lat           37.469453\n",
      "long        -122.411841\n",
      "Name: 30959, dtype: float64\n",
      "zipcode    94020.000000\n",
      "lat           37.274612\n",
      "long        -122.232420\n",
      "Name: 30960, dtype: float64\n",
      "zipcode    94025.000000\n",
      "lat           37.457524\n",
      "long        -122.176542\n",
      "Name: 30964, dtype: float64\n",
      "zipcode    94027.000000\n",
      "lat           37.453514\n",
      "long        -122.204756\n",
      "Name: 30965, dtype: float64\n",
      "zipcode    94028.000000\n",
      "lat           37.376850\n",
      "long        -122.209761\n",
      "Name: 30966, dtype: float64\n",
      "zipcode    94030.000000\n",
      "lat           37.598970\n",
      "long        -122.401991\n",
      "Name: 30967, dtype: float64\n",
      "zipcode    94037.000000\n",
      "lat           37.554298\n",
      "long        -122.496632\n",
      "Name: 30968, dtype: float64\n",
      "zipcode    94038.000000\n",
      "lat           37.526902\n",
      "long        -122.512164\n",
      "Name: 30969, dtype: float64\n",
      "zipcode    94044.000000\n",
      "lat           37.606598\n",
      "long        -122.477230\n",
      "Name: 30973, dtype: float64\n",
      "zipcode    94061.000000\n",
      "lat           37.461147\n",
      "long        -122.236948\n",
      "Name: 30975, dtype: float64\n",
      "zipcode    94062.000000\n",
      "lat           37.413691\n",
      "long        -122.295343\n",
      "Name: 30976, dtype: float64\n",
      "zipcode    94063.000000\n",
      "lat           37.493296\n",
      "long        -122.195535\n",
      "Name: 30977, dtype: float64\n",
      "zipcode    94065.000000\n",
      "lat           37.534800\n",
      "long        -122.245708\n",
      "Name: 30978, dtype: float64\n",
      "zipcode    94066.000000\n",
      "lat           37.625091\n",
      "long        -122.433598\n",
      "Name: 30979, dtype: float64\n",
      "zipcode    94070.000000\n",
      "lat           37.496466\n",
      "long        -122.272565\n",
      "Name: 30980, dtype: float64\n",
      "zipcode    94080.000000\n",
      "lat           37.655490\n",
      "long        -122.422075\n",
      "Name: 30982, dtype: float64\n",
      "zipcode    94103.000000\n",
      "lat           37.773152\n",
      "long        -122.411164\n",
      "Name: 30988, dtype: float64\n",
      "zipcode    94107.000000\n",
      "lat           37.758260\n",
      "long        -122.406044\n",
      "Name: 30991, dtype: float64\n",
      "zipcode    94109.000000\n",
      "lat           37.795388\n",
      "long        -122.422444\n",
      "Name: 30993, dtype: float64\n",
      "zipcode    94110.000000\n",
      "lat           37.750021\n",
      "long        -122.415201\n",
      "Name: 30994, dtype: float64\n",
      "zipcode    94112.000000\n",
      "lat           37.720367\n",
      "long        -122.442936\n",
      "Name: 30996, dtype: float64\n",
      "zipcode    94114.000000\n",
      "lat           37.758059\n",
      "long        -122.435408\n",
      "Name: 30997, dtype: float64\n",
      "zipcode    94115.000000\n",
      "lat           37.785969\n",
      "long        -122.437253\n",
      "Name: 30998, dtype: float64\n",
      "zipcode    94116.000000\n",
      "lat           37.745399\n",
      "long        -122.486065\n",
      "Name: 30999, dtype: float64\n",
      "zipcode    94117.000000\n",
      "lat           37.769436\n",
      "long        -122.447662\n",
      "Name: 31000, dtype: float64\n",
      "zipcode    94118.000000\n",
      "lat           37.780093\n",
      "long        -122.462605\n",
      "Name: 31001, dtype: float64\n",
      "zipcode    94121.000000\n",
      "lat           37.776769\n",
      "long        -122.494707\n",
      "Name: 31002, dtype: float64\n",
      "zipcode    94122.000000\n",
      "lat           37.758799\n",
      "long        -122.485127\n",
      "Name: 31003, dtype: float64\n",
      "zipcode    94123.000000\n",
      "lat           37.800934\n",
      "long        -122.438366\n",
      "Name: 31004, dtype: float64\n",
      "zipcode    94124.000000\n",
      "lat           37.728895\n",
      "long        -122.382779\n",
      "Name: 31005, dtype: float64\n",
      "zipcode    94127.000000\n",
      "lat           37.736220\n",
      "long        -122.459338\n",
      "Name: 31006, dtype: float64\n",
      "zipcode    94131.000000\n",
      "lat           37.745917\n",
      "long        -122.441473\n",
      "Name: 31010, dtype: float64\n",
      "zipcode    94132.000000\n",
      "lat           37.722214\n",
      "long        -122.484083\n",
      "Name: 31011, dtype: float64\n",
      "zipcode    94133.000000\n",
      "lat           37.804531\n",
      "long        -122.410852\n",
      "Name: 31012, dtype: float64\n",
      "zipcode    94134.000000\n",
      "lat           37.721046\n",
      "long        -122.413555\n",
      "Name: 31013, dtype: float64\n",
      "zipcode    94401.000000\n",
      "lat           37.576948\n",
      "long        -122.316903\n",
      "Name: 31020, dtype: float64\n",
      "zipcode    94402.000000\n",
      "lat           37.523602\n",
      "long        -122.344920\n",
      "Name: 31021, dtype: float64\n",
      "zipcode    94403.000000\n",
      "lat           37.538449\n",
      "long        -122.305447\n",
      "Name: 31022, dtype: float64\n",
      "zipcode    94404.000000\n",
      "lat           37.555999\n",
      "long        -122.267679\n",
      "Name: 31023, dtype: float64\n"
     ]
    }
   ],
   "source": [
    "for index, row in df2.iterrows():\n",
    "    print(row)"
   ]
  },
  {
   "cell_type": "code",
   "execution_count": null,
   "metadata": {
    "collapsed": true
   },
   "outputs": [],
   "source": []
  }
 ],
 "metadata": {
  "kernelspec": {
   "display_name": "Python 3",
   "language": "python",
   "name": "python3"
  },
  "language_info": {
   "codemirror_mode": {
    "name": "ipython",
    "version": 3
   },
   "file_extension": ".py",
   "mimetype": "text/x-python",
   "name": "python",
   "nbconvert_exporter": "python",
   "pygments_lexer": "ipython3",
   "version": "3.6.1"
  }
 },
 "nbformat": 4,
 "nbformat_minor": 2
}
