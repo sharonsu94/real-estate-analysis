{
 "cells": [
  {
   "cell_type": "markdown",
   "metadata": {},
   "source": [
    "## Setup"
   ]
  },
  {
   "cell_type": "code",
   "execution_count": 71,
   "metadata": {},
   "outputs": [],
   "source": [
    "import urllib.request\n",
    "import zipfile\n",
    "import pandas as pd\n",
    "from urllib.parse import urlencode\n",
    "import json"
   ]
  },
  {
   "cell_type": "markdown",
   "metadata": {},
   "source": [
    "### Define Data"
   ]
  },
  {
   "cell_type": "code",
   "execution_count": 2,
   "metadata": {},
   "outputs": [],
   "source": [
    "DATA_DIR = './data/'\n",
    "ZIPS_URL = 'http://www2.census.gov/geo/docs/maps-data/data/gazetteer/2017_Gazetteer/2017_Gaz_zcta_national.zip'\n",
    "ZIPS_FP = DATA_DIR + 'zips-2017.zip'\n",
    "ZHVI_URL = 'http://files.zillowstatic.com/research/public/Zip/Zip_Zhvi_SingleFamilyResidence.csv'\n",
    "ZHVI_FP = DATA_DIR + 'sfr.csv'"
   ]
  },
  {
   "cell_type": "markdown",
   "metadata": {},
   "source": [
    "### (Optional) Refresh Data"
   ]
  },
  {
   "cell_type": "code",
   "execution_count": 3,
   "metadata": {},
   "outputs": [],
   "source": [
    "urllib.request.urlretrieve(ZIPS_URL, ZIPS_FP);"
   ]
  },
  {
   "cell_type": "code",
   "execution_count": 7,
   "metadata": {},
   "outputs": [],
   "source": [
    "urllib.request.urlretrieve(ZHVI_URL, ZHVI_FP);"
   ]
  },
  {
   "cell_type": "markdown",
   "metadata": {},
   "source": [
    "## Home Prices"
   ]
  },
  {
   "cell_type": "code",
   "execution_count": 5,
   "metadata": {},
   "outputs": [],
   "source": [
    "df = pd.read_csv(ZHVI_FP)\n",
    "counties = ['San Francisco', 'San Mateo', 'San Jose']\n",
    "df = df[df['CountyName'].isin(counties)]\n",
    "zips = df['RegionName']"
   ]
  },
  {
   "cell_type": "markdown",
   "metadata": {},
   "source": [
    "## Schools"
   ]
  },
  {
   "cell_type": "code",
   "execution_count": 7,
   "metadata": {},
   "outputs": [],
   "source": [
    "df2 = pd.read_csv(ZIPS_FP, sep='\\t')\n",
    "df2 = df2[df2['GEOID'].isin(zips.values)]"
   ]
  },
  {
   "cell_type": "code",
   "execution_count": 51,
   "metadata": {},
   "outputs": [],
   "source": [
    "base = 'https://www.greatschools.org/search/search.page?'\n",
    "params = {\n",
    "    'lat': '37.554298',\n",
    "    'lon': '-122.496632',\n",
    "    'zip': '94037',\n",
    "    'state': 'CA'\n",
    "}\n",
    "url = base + urlencode(query)\n",
    "headers = {\n",
    "    \"user-agent\": \"Mozilla/5.0 (Macintosh; Intel Mac OS X 10.13; rv:58.0) Gecko/20100101 Firefox/58.0\",\n",
    "    \"accept\": \"text/html,application/xhtml+xml,application/xml;q=0.9,*/*;q=0.8\",\n",
    "    \"accept-encoding\": \"gzip,deflate,br\",\n",
    "    \"accept-language\": \"en-US,en;q=0.5\",\n",
    "}"
   ]
  },
  {
   "cell_type": "code",
   "execution_count": 54,
   "metadata": {},
   "outputs": [],
   "source": [
    "req = urllib.request.Request(url, None, headers)\n",
    "with urllib.request.urlopen(url) as res:\n",
    "    html = str(res.read())"
   ]
  },
  {
   "cell_type": "code",
   "execution_count": 78,
   "metadata": {},
   "outputs": [],
   "source": [
    "raw = html.find('gon.map_points')\n",
    "start = html.find('[',raw)\n",
    "end = html.find(']',raw)\n",
    "data = html[start:end+1]\n",
    "schools = json.loads(data)\n",
    "rated = [i for i in schools if i['gsRating'] > 0]"
   ]
  },
  {
   "cell_type": "code",
   "execution_count": 79,
   "metadata": {
    "scrolled": true
   },
   "outputs": [
    {
     "data": {
      "text/plain": [
       "[{'city': 'Pacifica',\n",
       "  'communityRatingStars': 5,\n",
       "  'fitScore': 0,\n",
       "  'gradeRange': 'K-8',\n",
       "  'gsRating': 9,\n",
       "  'id': 6884,\n",
       "  'lat': 37.59849548339844,\n",
       "  'lng': -122.49832153320312,\n",
       "  'maxFitScore': 0,\n",
       "  'name': 'Cabrillo Elementary School',\n",
       "  'numReviews': 129,\n",
       "  'okFit': False,\n",
       "  'on_page': True,\n",
       "  'preschool': False,\n",
       "  'profileUrl': '/california/pacifica/6884-Cabrillo-Elementary-School/',\n",
       "  'reviewUrl': '/california/pacifica/6884-Cabrillo-Elementary-School/#Reviews',\n",
       "  'schoolType': 'Public district',\n",
       "  'state': 'ca',\n",
       "  'street': '601 Crespi Drive',\n",
       "  'strongFit': False,\n",
       "  'zillowUrl': 'https://www.zillow.com/CA-94044?cbpartner=Great+Schools\\\\u0026utm_source=GreatSchools\\\\u0026utm_medium=referral\\\\u0026utm_campaign=schoolsearch',\n",
       "  'zipcode': '94044'},\n",
       " {'city': 'Pacifica',\n",
       "  'communityRatingStars': 5,\n",
       "  'fitScore': 0,\n",
       "  'gradeRange': 'K-8',\n",
       "  'gsRating': 9,\n",
       "  'id': 6892,\n",
       "  'lat': 37.61370086669922,\n",
       "  'lng': -122.4847412109375,\n",
       "  'maxFitScore': 0,\n",
       "  'name': 'Vallemar Elementary School',\n",
       "  'numReviews': 140,\n",
       "  'okFit': False,\n",
       "  'on_page': True,\n",
       "  'preschool': False,\n",
       "  'profileUrl': '/california/pacifica/6892-Vallemar-Elementary-School/',\n",
       "  'reviewUrl': '/california/pacifica/6892-Vallemar-Elementary-School/#Reviews',\n",
       "  'schoolType': 'Public district',\n",
       "  'state': 'ca',\n",
       "  'street': '377 Reina Del Mar Avenue',\n",
       "  'strongFit': False,\n",
       "  'zillowUrl': 'https://www.zillow.com/CA-94044?cbpartner=Great+Schools\\\\u0026utm_source=GreatSchools\\\\u0026utm_medium=referral\\\\u0026utm_campaign=schoolsearch',\n",
       "  'zipcode': '94044'},\n",
       " {'city': 'Pacifica',\n",
       "  'communityRatingStars': 3,\n",
       "  'fitScore': 0,\n",
       "  'gradeRange': '9-12',\n",
       "  'gsRating': 7,\n",
       "  'id': 6882,\n",
       "  'lat': 37.592369079589844,\n",
       "  'lng': -122.47595977783203,\n",
       "  'maxFitScore': 0,\n",
       "  'name': 'Terra Nova High School',\n",
       "  'numReviews': 41,\n",
       "  'okFit': False,\n",
       "  'on_page': True,\n",
       "  'preschool': False,\n",
       "  'profileUrl': '/california/pacifica/6882-Terra-Nova-High-School/',\n",
       "  'reviewUrl': '/california/pacifica/6882-Terra-Nova-High-School/#Reviews',\n",
       "  'schoolType': 'Public district',\n",
       "  'state': 'ca',\n",
       "  'street': '1450 Terra Nova Boulevard',\n",
       "  'strongFit': False,\n",
       "  'zillowUrl': 'https://www.zillow.com/CA-94044?cbpartner=Great+Schools\\\\u0026utm_source=GreatSchools\\\\u0026utm_medium=referral\\\\u0026utm_campaign=schoolsearch',\n",
       "  'zipcode': '94044'},\n",
       " {'city': 'Pacifica',\n",
       "  'communityRatingStars': 5,\n",
       "  'fitScore': 0,\n",
       "  'gradeRange': 'K-5',\n",
       "  'gsRating': 5,\n",
       "  'id': 13919,\n",
       "  'lat': 37.58766555786133,\n",
       "  'lng': -122.47904205322266,\n",
       "  'maxFitScore': 0,\n",
       "  'name': 'Ortega Elementary School',\n",
       "  'numReviews': 52,\n",
       "  'okFit': False,\n",
       "  'on_page': True,\n",
       "  'preschool': False,\n",
       "  'profileUrl': '/california/pacifica/13919-Ortega-Elementary-School/',\n",
       "  'reviewUrl': '/california/pacifica/13919-Ortega-Elementary-School/#Reviews',\n",
       "  'schoolType': 'Public district',\n",
       "  'state': 'ca',\n",
       "  'street': '1283 Terra Nova Boulevard',\n",
       "  'strongFit': False,\n",
       "  'zillowUrl': 'https://www.zillow.com/CA-94044?cbpartner=Great+Schools\\\\u0026utm_source=GreatSchools\\\\u0026utm_medium=referral\\\\u0026utm_campaign=schoolsearch',\n",
       "  'zipcode': '94044'},\n",
       " {'city': 'Half Moon Bay',\n",
       "  'communityRatingStars': 5,\n",
       "  'fitScore': 0,\n",
       "  'gradeRange': 'K-5',\n",
       "  'gsRating': 4,\n",
       "  'id': 6853,\n",
       "  'lat': 37.499977111816406,\n",
       "  'lng': -122.46453094482422,\n",
       "  'maxFitScore': 0,\n",
       "  'name': 'El Granada Elementary School',\n",
       "  'numReviews': 9,\n",
       "  'okFit': False,\n",
       "  'on_page': True,\n",
       "  'preschool': False,\n",
       "  'profileUrl': '/california/half-moon-bay/6853-El-Granada-Elementary-School/',\n",
       "  'reviewUrl': '/california/half-moon-bay/6853-El-Granada-Elementary-School/#Reviews',\n",
       "  'schoolType': 'Public district',\n",
       "  'state': 'ca',\n",
       "  'street': '400 Santiago Street',\n",
       "  'strongFit': False,\n",
       "  'zillowUrl': 'https://www.zillow.com/CA-94019?cbpartner=Great+Schools\\\\u0026utm_source=GreatSchools\\\\u0026utm_medium=referral\\\\u0026utm_campaign=schoolsearch',\n",
       "  'zipcode': '94019'},\n",
       " {'city': 'Montara',\n",
       "  'communityRatingStars': 4,\n",
       "  'fitScore': 0,\n",
       "  'gradeRange': 'K-5',\n",
       "  'gsRating': 4,\n",
       "  'id': 6854,\n",
       "  'lat': 37.54350662231445,\n",
       "  'lng': -122.50814056396484,\n",
       "  'maxFitScore': 0,\n",
       "  'name': 'Farallone View Elementary School',\n",
       "  'numReviews': 24,\n",
       "  'okFit': False,\n",
       "  'on_page': True,\n",
       "  'preschool': False,\n",
       "  'profileUrl': '/california/montara/6854-Farallone-View-Elementary-School/',\n",
       "  'reviewUrl': '/california/montara/6854-Farallone-View-Elementary-School/#Reviews',\n",
       "  'schoolType': 'Public district',\n",
       "  'state': 'ca',\n",
       "  'street': '250 Laconte And Kanoff',\n",
       "  'strongFit': False,\n",
       "  'zillowUrl': 'https://www.zillow.com/CA-94037?cbpartner=Great+Schools\\\\u0026utm_source=GreatSchools\\\\u0026utm_medium=referral\\\\u0026utm_campaign=schoolsearch',\n",
       "  'zipcode': '94037'}]"
      ]
     },
     "execution_count": 79,
     "metadata": {},
     "output_type": "execute_result"
    }
   ],
   "source": [
    "rated"
   ]
  }
 ],
 "metadata": {
  "kernelspec": {
   "display_name": "Python 3",
   "language": "python",
   "name": "python3"
  },
  "language_info": {
   "codemirror_mode": {
    "name": "ipython",
    "version": 3
   },
   "file_extension": ".py",
   "mimetype": "text/x-python",
   "name": "python",
   "nbconvert_exporter": "python",
   "pygments_lexer": "ipython3",
   "version": "3.6.4"
  }
 },
 "nbformat": 4,
 "nbformat_minor": 2
}
